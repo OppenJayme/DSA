{
 "cells": [
  {
   "cell_type": "markdown",
   "metadata": {},
   "source": [
    "### SET = collection of unique elements\n",
    "- order dont matter\n",
    "- subset to its universal set\n",
    "\n",
    "### best implementation of ADT set\n",
    "- depends on size of Uset and operations.\n",
    "- BIT VECTOR\n",
    "- NOTE!!!!\n",
    "\t- USET SIZE = SUBSET SIZE!!\n",
    "\t- subset has same size of USET regardless of how many elements\n",
    "\n",
    "## BIT VECTOR \n",
    "- 0(1)\n",
    "- array implmenetation\n",
    "- best implementation of ADT SET\n",
    "\n",
    "## 2's complement\n",
    "- how negative numbers are stored in memory\n",
    "- how to?\n",
    "\t- copy bits from right to left until first occurance of 1\n",
    "\t- then complement the rest following the right to left\n",
    "\t- ex. 0001 1100 -> 1110 0100\n",
    "\n",
    "## Range Value\n",
    "- max and min value of a un/signed bit\n",
    "- **signed** = -128 - 127\n",
    "- **unsigned** = 0 to 255\n",
    "\n",
    "## 2 Right Shifts\n",
    "- Logical\n",
    "\t- The leftmost bits (MSBs) are filled with 0s, no matter what the original sign was.\n",
    "- Arithmetic\n",
    "\t- works for unsigned numbers\n",
    "\t- preserves the MSB (leftmost)\n",
    "\t- copied not replaced by 0\n",
    "\t-stays negative\n",
    "\t- if MSB is 0 then every shift is 0, if MSB is 1 then every shift is 1\n",
    "\n",
    "\n"
   ]
  },
  {
   "cell_type": "markdown",
   "metadata": {},
   "source": []
  }
 ],
 "metadata": {
  "language_info": {
   "name": "python"
  }
 },
 "nbformat": 4,
 "nbformat_minor": 2
}
